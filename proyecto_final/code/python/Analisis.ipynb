{
 "cells": [
  {
   "cell_type": "markdown",
   "metadata": {},
   "source": [
    "# Minería de reglas de asociación espacial sobre Minecraft\n",
    "\n",
    "## El Proyecto\n",
    "Este proyecto tiene como objetivo la aplicación de algoritmos de Inteligencia Artificial. La idea inicial consistió en buscar una solución a un problema particular que se puede explicar de la siguiente manera:\n",
    "\n",
    "Dentro de la industria de creación de videojuegos existe un area grande e importante que consiste en la generación procedural.\n",
    "Se le llama generación procedural de contenido, o **PCG** (*Procedural Content Generation*) por sus siglas en ingles, a la creación algorítmica de contenido para videojuegos con entradas del usuario limitadas o indirectas. [*Procedural Content\n",
    "Generation in Games_ Noor Shaker,Julian Togelius,Mark J. Nelson*].  \n",
    "\n",
    "Dentro de este area existen varios algoritmos que permiten la generación de contenido a partir de el establecimiento de parámetros de entrada que permiten al Diseñador orientar el funcionamiento del algoritmo. Teniendo en cuenta esta característica surge la pregunta: \n",
    "- ¿Sería posible mediante un algoritmo de inteligencia artificial y un entorno no generado artificialmente, poder *inferir* parámetros para que el algoritmo genere entornos similares?  \n",
    "\n",
    "O de otra manera:\n",
    "- ¿Puedo ***inferir las relaciones*** que existen entre los objetos de un entorno dado y, a partir de ellos, establecer parámetros para un algoritmo de generación procedural?\n",
    "\n",
    "Debido a la extension que conllevaría realizar un proyecto para contestar estas preguntas, se decidió que el enfoque del proyecto estará en la búsqueda y comparación de algoritmos de inteligencia artificial que permitan la descripción, aprendizaje o inferencia de las relaciones que existen entre objetos en un espacio físico o virtual.\n",
    "\n",
    "Con la exploración bibliográfica se puede entender que existe un area de investigación dentro de la ciencia en minería de datos que enfocada en como realizar las tareas de minería de datos sobre bases de datos espaciales o geográficas. La **Minería de Datos Espaciales** o **SDM** es un proceso de descubrimiento y extracción de conocimiento generalizado sobre gran cantidad de datos espaciales. [Spatial Data Mining_ Theory and Application_Deren L., Shuliang W., Deyi L]\n",
    "\n",
    "El proyecto entonces consistirá en la aplicación de algunas técnicas y algoritmos utilizados en el area de *SDM* para realizar la inferencia de relaciones entre objetos espaciales en un entorno. Concretamente, los aplicaremos sobre un conjunto de datos extraídos del Videojuego *Minecraft*.\n",
    "\n",
    "*Minecraft* es un videojuego 3D que utiliza un complejo procedimiento de generación procedural para la creación de terrenos de juego utilizando bloques. Se toma este escenario para la realización del proyecto debido a que los datos correspondientes a un terreno generado en el videojuego son de fácil acceso y la extracción de es sencilla, además, la disposición de los objetos dentro del juego son bloques con coordenadas rectangulares. Se puede obtener mas información sobre el procedimiento de generación procedural en está pagina web: [The World Generation of Minecraft](https://www.alanzucconi.com/2022/06/05/minecraft-world-generation/)."
   ]
  },
  {
   "cell_type": "code",
   "execution_count": 1,
   "metadata": {},
   "outputs": [],
   "source": [
    "#Imports\n",
    "\n",
    "import apriori\n",
    "import preprocess\n",
    "import ploting"
   ]
  },
  {
   "cell_type": "markdown",
   "metadata": {},
   "source": [
    "## Obtención de los datos del Videojuego\n",
    "Para extraer la información sobre los bloques de Minecraft utilizare la información brindada por esta pagina web:[Minecraft Region file format](https://minecraft.fandom.com/wiki/Region_file_format). \n",
    "\n",
    "En la capeta de instalación del videojuego encontramos una carpeta donde se guarda la información cada mundo generado llamada ``saves``. Dentro de la carpeta del mundo encontramos la sub-carpeta ``region``. Esta carpeta contiene varios archivos con formato *.mca*. Los archivos *.mca* tienen un patron de nombramiento que depende de las regiones del juego que se han generado, por cada region generada existe un archivo que contiene la información de 32x32 *chunks*. Siendo *x* y *z* las coordenadas de una región los archivos se nombran como *r.x.z.mca*.\n",
    "Cada *Chunk* guarda el terreno, las entidades en un area de 16x16x255 donde el ancho y largo es 16 y la altura es 255. Además guarda iluminación precomputalizada, mapas de altura y otra información que no es de nuestro interés.\n",
    "\n",
    "Para \"parsear\" estos archivos y extraer la información de los bloques en un archivo de región utilizaremos la biblioteca **anvil**.\n",
    "Una vez parseado guardaremos el chunk en formato .csv y utilizaremos la biblioteca **pandas** para trabajar y manipular los datos."
   ]
  },
  {
   "cell_type": "code",
   "execution_count": 2,
   "metadata": {},
   "outputs": [],
   "source": [
    "#Path del CSV\n",
    "csvPath = \"..\\\\..\\\\Data\\\\chunks.csv\""
   ]
  },
  {
   "cell_type": "code",
   "execution_count": 3,
   "metadata": {},
   "outputs": [],
   "source": [
    "#Extracción de los bloques\n",
    "import chunkParser\n",
    "mcaPath = \"..\\\\..\\\\Data\\\\region_new\\\\r.0.0.mca\"\n",
    "with open(csvPath,'w') as csvFile:\n",
    "    chunkParser.mcaCSV(csvFile,mcaPath);"
   ]
  },
  {
   "cell_type": "code",
   "execution_count": 4,
   "metadata": {},
   "outputs": [
    {
     "name": "stdout",
     "output_type": "stream",
     "text": [
      "         Bid   X    Y   Z      Tag  ChunkX  ChunkZ\\r\n",
      "0          0   0    0   0  bedrock       0         0\n",
      "1          1   0    1   0  bedrock       0         0\n",
      "2          2   0    2   0  bedrock       0         0\n",
      "3          3   0    3   0    stone       0         0\n",
      "4          4   0    4   0    stone       0         0\n",
      "...      ...  ..  ...  ..      ...     ...       ...\n",
      "9811120  278  14  250  14      air       1         8\n",
      "9811121  279  14  251  14      air       1         8\n",
      "9811122  280  14  252  14      air       1         8\n",
      "9811123  281  14  253  14      air       1         8\n",
      "9811124  282  14  254  14      air       1         8\n",
      "\n",
      "[9811125 rows x 7 columns]\n"
     ]
    }
   ],
   "source": [
    "#Lectura del CSV\n",
    "import pandas as pd\n",
    "df = pd.read_csv(csvPath,delimiter=\";\",lineterminator=\"\\n\")\n",
    "print(df)"
   ]
  },
  {
   "cell_type": "markdown",
   "metadata": {},
   "source": [
    "## Análisis de Datos de entrada"
   ]
  },
  {
   "cell_type": "markdown",
   "metadata": {},
   "source": [
    "El terreno que utilizare fue generado por la version 1.10.2 del videojuego. Versiones más resientes existen pero no son soportadas por el visualizador. Utilizando el [visualizador](http://pessimistress.github.io/minecraft/). El terreno del cual he extraído los bloques se ve de la siguiente manera:\n",
    "![top_view](../Images/)\n",
    "Utilizando otro vizualizador:\n",
    "![3d_view]()"
   ]
  },
  {
   "cell_type": "code",
   "execution_count": 5,
   "metadata": {},
   "outputs": [
    {
     "ename": "AttributeError",
     "evalue": "'AxesSubplot' object has no attribute 'show'",
     "output_type": "error",
     "traceback": [
      "\u001b[1;31m---------------------------------------------------------------------------\u001b[0m",
      "\u001b[1;31mAttributeError\u001b[0m                            Traceback (most recent call last)",
      "Cell \u001b[1;32mIn[5], line 3\u001b[0m\n\u001b[0;32m      1\u001b[0m \u001b[39mimport\u001b[39;00m \u001b[39mmatplotlib\u001b[39;00m\u001b[39m.\u001b[39;00m\u001b[39mpyplot\u001b[39;00m \u001b[39mas\u001b[39;00m \u001b[39mplt\u001b[39;00m \n\u001b[0;32m      2\u001b[0m my_plot \u001b[39m=\u001b[39m df\u001b[39m.\u001b[39mplot(\u001b[39m\"\u001b[39m\u001b[39mTag\u001b[39m\u001b[39m\"\u001b[39m, \u001b[39m\"\u001b[39m\u001b[39mY\u001b[39m\u001b[39m\"\u001b[39m, kind\u001b[39m=\u001b[39m\u001b[39m\"\u001b[39m\u001b[39mscatter\u001b[39m\u001b[39m\"\u001b[39m)\n\u001b[1;32m----> 3\u001b[0m my_plot\u001b[39m.\u001b[39;49mshow()\n",
      "\u001b[1;31mAttributeError\u001b[0m: 'AxesSubplot' object has no attribute 'show'"
     ]
    },
    {
     "data": {
      "image/png": "[encoded data removed]",
      "text/plain": [
       "<Figure size 640x480 with 1 Axes>"
      ]
     },
     "metadata": {},
     "output_type": "display_data"
    }
   ],
   "source": [
    "import matplotlib.pyplot as plt \n",
    "my_plot = df.plot(\"Tag\", \"Y\", kind=\"scatter\")\n",
    "my_plot.show()"
   ]
  },
  {
   "cell_type": "markdown",
   "metadata": {},
   "source": []
  },
  {
   "cell_type": "code",
   "execution_count": null,
   "metadata": {},
   "outputs": [],
   "source": []
  },
  {
   "cell_type": "code",
   "execution_count": null,
   "metadata": {},
   "outputs": [],
   "source": [
    "\n",
    "#Data analysis\n",
    "    #Ploting and metrics\n",
    "#Preprocess\n",
    "preprocess.basic()\n",
    "preprocess.cloudModel()\n",
    "preprocess.comceptLattice()\n",
    "\n",
    "#Run Apriori Algorithm\n",
    "\n",
    "#Generate metrics and plots from Result\n",
    "    #Ploting and Metrics\n"
   ]
  },
  {
   "cell_type": "markdown",
   "metadata": {},
   "source": [
    "# Bibliografía y Papers relacionados #\n",
    "\n",
    "## Association Rules mining ##\n",
    "\n",
    "+ [Métricas para reglas de association](https://towardsdatascience.com/association-rules-2-aa9a77241654)\n",
    "+ [Priori en R](https://www.geeksforgeeks.org/association-rule-mining-in-r-programming/#:~:text=Association%20Rule%20Mining%20in%20R%20Language%20is%20an%20Unsupervised%20Non,in%20a%20transaction%20or%20relation.)\n",
    "+ [Lista de algoritmos para minería de reglas de asociación](https://personal.ntu.edu.sg/assourav/Unpublished/UP-ARMSurvey.pdf)\n",
    "\n",
    "## Spacial Association Rules mining ##\n",
    "\n",
    "+ [Enhancing spatial association rule mining in geographic databases](https://www.lume.ufrgs.br/handle/10183/7841)\n",
    "+ [POWERPOINT Spatial Association Rules](https://www.ismll.uni-hildesheim.de/lehre/spatial-09w/script/association_web.pdf)\n",
    "+ [Papers del Power anterior](http://www.spatial.cs.umn.edu/paper_list.html)\n",
    "+ [SPADA system for spatial association rules mining on spatial databases](https://edz.bib.uni-mannheim.de/www-edz/pdf/eurostat/02/KS-CS-02-001-EN-N-EN.pdf#page=26)\n",
    "+ [Discovering spatial interaction patterns of near repeat crime by spatial association rules mining](https://www.nature.com/articles/s41598-020-74248-w)\n",
    "+ [Exploring spatial data](https://libraries.mit.edu/files/gis/exploring_spatial_patterns_iap2013.pdf)\n",
    "## Procedural generation ##\n",
    "\n",
    "+ [DISEÑO DE ALGORITMO DE GENERACIÓN PROCEDURAL ENFOCADO A VIDEOJUEGOS](https://repositorio.usm.cl/bitstream/handle/11673/49444/3560902038911UTFSM.pdf?sequence=1&isAllowed=y)\n",
    "\n",
    "## Minecraft related content ##\n",
    "\n",
    "+ [The World Generation of Minecraft](https://www.alanzucconi.com/2022/06/05/minecraft-world-generation/)\n",
    "+ [JS chunk visualizer](https://pessimistress.github.io/minecraft/)\n",
    "+ [I Wrote a 3D Chunk Visualizer for Minecraft](https://www.youtube.com/watch?v=fpGsOdxcU2M&ab_channel=ParametricCamp)\n",
    "+ [An easy to use and fast Minecraft world viewer](https://unmined.net)\n",
    "+ [enkiMI Minecraft 3D editor](https://www.reddit.com/r/VoxelGameDev/comments/8c4a67/a_better_way_to_extract_minecraft_data/)\n",
    "+ [Minecraft Region file format](https://minecraft.fandom.com/wiki/Region_file_format)\n",
    "+ [Minecraft Region file Wikipedia](https://wiki.vg/Region_Files)\n",
    "+ [Formato NBT](https://minecraft.fandom.com/es/wiki/Formato_NBT)\n",
    "+ [Anvil Parser](https://github.com/matcool/anvil-parser)"
   ]
  }
 ],
 "metadata": {
  "kernelspec": {
   "display_name": "Python 3.10.6 64-bit",
   "language": "python",
   "name": "python3"
  },
  "language_info": {
   "codemirror_mode": {
    "name": "ipython",
    "version": 3
   },
   "file_extension": ".py",
   "mimetype": "text/x-python",
   "name": "python",
   "nbconvert_exporter": "python",
   "pygments_lexer": "ipython3",
   "version": "3.10.6"
  },
  "orig_nbformat": 4,
  "vscode": {
   "interpreter": {
    "hash": "26de051ba29f2982a8de78e945f0abaf191376122a1563185a90213a26c5da77"
   }
  }
 },
 "nbformat": 4,
 "nbformat_minor": 2
}
